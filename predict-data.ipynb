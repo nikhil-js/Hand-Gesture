{
 "cells": [
  {
   "cell_type": "code",
   "execution_count": 1,
   "id": "982758aa",
   "metadata": {
    "scrolled": true
   },
   "outputs": [
    {
     "name": "stdout",
     "output_type": "stream",
     "text": [
      "Loaded model from disk\n"
     ]
    }
   ],
   "source": [
    "import numpy as np\n",
    "from keras.models import model_from_json\n",
    "import operator\n",
    "import cv2\n",
    "import sys, os\n",
    "json_file = open(\"model-bw.json\", \"r\")\n",
    "model_json = json_file.read()\n",
    "json_file.close()\n",
    "loaded_model = model_from_json(model_json)\n",
    "loaded_model.load_weights(\"model-bw.h5\")\n",
    "print(\"Loaded model from disk\")\n",
    "cap = cv2.VideoCapture(0)\n",
    "cap.set(cv2.CAP_PROP_FRAME_WIDTH,1500)\n",
    "cap.set(cv2.CAP_PROP_FRAME_HEIGHT,1500)\n",
    "while True:\n",
    "    _, frame = cap.read()\n",
    "    frame = cv2.flip(frame, 1)\n",
    "    x1 = int(0.75*frame.shape[1])\n",
    "    y1 = 10\n",
    "    x2 =frame.shape[1]-10\n",
    "    y2 = int(0.25*frame.shape[1])\n",
    "    cv2.rectangle(frame, (x1-1, y1-1), (x2+1, y2+1), (0,0,0) ,1)\n",
    "    roi = frame[y1:y2, x1:x2]\n",
    "    roi = cv2.resize(roi, (64, 64)) \n",
    "    cv2.imshow(\"Frame\", frame)\n",
    "    roi = cv2.cvtColor(roi, cv2.COLOR_RGB2GRAY)\n",
    "    _, test_image = cv2.threshold(roi, 130, 255, cv2.THRESH_BINARY)\n",
    "    cv2.imshow(\"test\", test_image)\n",
    "    result = loaded_model.predict(test_image.reshape(1, 64, 64, 1))\n",
    "    prediction = {'A': result[0][0], \n",
    "                  'B': result[0][1], \n",
    "                  'C': result[0][2],\n",
    "                  'D': result[0][3],\n",
    "                  'E': result[0][4],\n",
    "                  'F': result[0][5],\n",
    "                  'G': result[0][6],\n",
    "                  'H': result[0][7],\n",
    "                  'I': result[0][8],\n",
    "                  'J': result[0][9],\n",
    "                  'K': result[0][10],\n",
    "                  'L': result[0][11],\n",
    "                  'M': result[0][12],\n",
    "                  'N': result[0][13],\n",
    "                  'O': result[0][14],\n",
    "                  'P': result[0][15],\n",
    "                  'Q': result[0][16],\n",
    "                  'R': result[0][17],\n",
    "                  'S': result[0][18],\n",
    "                  'T': result[0][19],\n",
    "                  'U': result[0][20],\n",
    "                  'V': result[0][21],\n",
    "                  'W': result[0][22],\n",
    "                  'X': result[0][23],\n",
    "                  'Y': result[0][24],\n",
    "                  'Z': result[0][25]}\n",
    "    prediction = sorted(prediction.items(), key=operator.itemgetter(1), reverse=True)\n",
    "    cv2.putText(frame, prediction[0][0], (10, 120), cv2.FONT_HERSHEY_SIMPLEX, 2, (0,0,0), 2)    \n",
    "    cv2.imshow(\"Frame\", frame)\n",
    "    interrupt = cv2.waitKey(10)\n",
    "    if interrupt & 0xFF == 27: \n",
    "        break\n",
    "cap.release()\n",
    "cv2.destroyAllWindows()\n"
   ]
  },
  {
   "cell_type": "code",
   "execution_count": null,
   "id": "1b65ece4",
   "metadata": {},
   "outputs": [],
   "source": []
  },
  {
   "cell_type": "code",
   "execution_count": null,
   "id": "05f10dff",
   "metadata": {},
   "outputs": [],
   "source": []
  }
 ],
 "metadata": {
  "kernelspec": {
   "display_name": "Python 3 (ipykernel)",
   "language": "python",
   "name": "python3"
  },
  "language_info": {
   "codemirror_mode": {
    "name": "ipython",
    "version": 3
   },
   "file_extension": ".py",
   "mimetype": "text/x-python",
   "name": "python",
   "nbconvert_exporter": "python",
   "pygments_lexer": "ipython3",
   "version": "3.7.4"
  }
 },
 "nbformat": 4,
 "nbformat_minor": 5
}
